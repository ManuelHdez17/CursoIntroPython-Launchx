{
 "cells": [
  {
   "cell_type": "markdown",
   "metadata": {},
   "source": [
    "# Administrar datos con diccionarios\n",
    "### Ejercicio 1: Creación de diccionarios de Python"
   ]
  },
  {
   "cell_type": "code",
   "execution_count": 12,
   "metadata": {},
   "outputs": [
    {
     "name": "stdout",
     "output_type": "stream",
     "text": [
      "El nombre del planeta es: Mars y tiene 2 lunas.\n",
      "Su circunferencia (km) polar es de: 6752\n",
      "Y su circunferencia (km) equatorial es de: 6792\n"
     ]
    }
   ],
   "source": [
    "# Crear un diccionario lllamado planet\n",
    "planet = {\n",
    "    'name' : 'Mars',\n",
    "    'moon' : 2\n",
    "}\n",
    "\n",
    "# Recuperar valores\n",
    "print(f\"El nombre del planeta es: {planet['name']} y tiene {planet['moon']} lunas.\")\n",
    "\n",
    "# Actualizar valores\n",
    "planet['circunference (km)'] = {\n",
    "    'polar': 6752,\n",
    "    'equatorial': 6792\n",
    "}\n",
    "\n",
    "#Imprimir su circunferencia\n",
    "print(f\"\"\"Su circunferencia (km) polar es de: {planet['circunference (km)']['polar']}\n",
    "Y su circunferencia (km) equatorial es de: {planet['circunference (km)']['equatorial']}\"\"\")\n"
   ]
  },
  {
   "cell_type": "markdown",
   "metadata": {},
   "source": [
    "### Ejercicio 2: Programación dinámica con diccionarios\n",
    "#### En este escenario, calcularás tanto el número total de lunas en el sistema solar como el número promedio de lunas que tiene el planeta"
   ]
  },
  {
   "cell_type": "code",
   "execution_count": 15,
   "metadata": {},
   "outputs": [
    {
     "name": "stdout",
     "output_type": "stream",
     "text": [
      "El promedio de lunas en el sistema solar es de: 30.571428571428573\n"
     ]
    }
   ],
   "source": [
    "# Planetas y lunas\n",
    "planet_moons = {\n",
    "    'mercury': 0,\n",
    "    'venus': 0,\n",
    "    'earth': 1,\n",
    "    'mars': 2,\n",
    "    'jupiter': 79,\n",
    "    'saturn': 82,\n",
    "    'uranus': 27,\n",
    "    'neptune': 14,\n",
    "    'pluto': 5,\n",
    "    'haumea': 2,\n",
    "    'makemake': 1,\n",
    "    'eris': 1\n",
    "}\n",
    "\n",
    "# Determinar el número de lunas\n",
    "moons = planet_moons.values()\n",
    "\n",
    "planets = 8\n",
    "\n",
    "# Contar el número de lunas\n",
    "total_moons = 0\n",
    "for moon in moons:\n",
    "    total_moons = total_moons + moon\n",
    "\n",
    "# Calcular el promedio\n",
    "average = total_moons / 7\n",
    "\n",
    "# Imprimir las lunas y el promedio\n",
    "print(f\"El promedio de lunas en el sistema solar es de: {average}\")"
   ]
  }
 ],
 "metadata": {
  "interpreter": {
   "hash": "920422d66dd22cd13e7b7da219c349bbc50723e560bbca5d5fbecdcd67a02591"
  },
  "kernelspec": {
   "display_name": "Python 3.10.2 64-bit (system)",
   "language": "python",
   "name": "python3"
  },
  "language_info": {
   "codemirror_mode": {
    "name": "ipython",
    "version": 3
   },
   "file_extension": ".py",
   "mimetype": "text/x-python",
   "name": "python",
   "nbconvert_exporter": "python",
   "pygments_lexer": "ipython3",
   "version": "3.10.2"
  },
  "orig_nbformat": 4
 },
 "nbformat": 4,
 "nbformat_minor": 2
}
