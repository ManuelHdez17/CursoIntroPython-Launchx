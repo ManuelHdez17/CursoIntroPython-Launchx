{
 "cells": [
  {
   "cell_type": "markdown",
   "metadata": {},
   "source": [
    "# Listas en Python\n",
    "### Ejercicio 1: Crear y usar listas en Python"
   ]
  },
  {
   "cell_type": "code",
   "execution_count": 6,
   "metadata": {},
   "outputs": [
    {
     "name": "stdout",
     "output_type": "stream",
     "text": [
      "Hay 8 planetas en la lista\n",
      "Ahora hay 9 planetas en la lista\n"
     ]
    }
   ],
   "source": [
    "# Crear una variable que contenga los nombres de los planetas y mostrar el número de planetas\n",
    "planets = ['Mercury', 'Venus', 'Earth', 'Mars', 'Jupiter', 'Saturn', 'Uranus', 'Neptune']\n",
    "print(f\"Hay {len(planets)} planetas en la lista\")\n",
    "\n",
    "# Agregar a Plutón a la lista y mostrar el número de planetas\n",
    "planets.append('Pluto')\n",
    "print(f\"Ahora hay {len(planets)} planetas en la lista \")"
   ]
  },
  {
   "cell_type": "markdown",
   "metadata": {},
   "source": [
    "### Ejercicio 2: Trabajando con datos de una lista"
   ]
  },
  {
   "cell_type": "code",
   "execution_count": 14,
   "metadata": {},
   "outputs": [
    {
     "name": "stdout",
     "output_type": "stream",
     "text": [
      "Los planetas más cercanos al Sol que Mars son: ['Mercury', 'Venus', 'Earth']\n",
      "Los planetas más lejanos al Sol que Mars son: ['Jupiter', 'Saturn', 'Neptune']\n"
     ]
    }
   ],
   "source": [
    "# Crear una lista con los planetas\n",
    "planets = ['Mercury', 'Venus', 'Earth', 'Mars', 'Jupiter', 'Saturn', 'Neptune']\n",
    "\n",
    "# Solicitar al usuario el nombre de un planeta\n",
    "name_planet = input('Ingresa el nombre de un planeta comenzando con Mayúscula')\n",
    "\n",
    "# Encontrar el planeta en la lista\n",
    "planet_index = planets.index(name_planet)\n",
    "\n",
    "# Mostrar los planetas más cercanos al Sol\n",
    "print(f\"Los planetas más cercanos al Sol que {name_planet} son: {planets[0:planet_index]}\")\n",
    "\n",
    "# Planetas más lejanos al Sol\n",
    "print(f\"Los planetas más lejanos al Sol que {name_planet} son: {planets[planet_index+1:]}\")"
   ]
  }
 ],
 "metadata": {
  "interpreter": {
   "hash": "920422d66dd22cd13e7b7da219c349bbc50723e560bbca5d5fbecdcd67a02591"
  },
  "kernelspec": {
   "display_name": "Python 3.10.2 64-bit (system)",
   "language": "python",
   "name": "python3"
  },
  "language_info": {
   "codemirror_mode": {
    "name": "ipython",
    "version": 3
   },
   "file_extension": ".py",
   "mimetype": "text/x-python",
   "name": "python",
   "nbconvert_exporter": "python",
   "pygments_lexer": "ipython3",
   "version": "3.10.2"
  },
  "orig_nbformat": 4
 },
 "nbformat": 4,
 "nbformat_minor": 2
}
