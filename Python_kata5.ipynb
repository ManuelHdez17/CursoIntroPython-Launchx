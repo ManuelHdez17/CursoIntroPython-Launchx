{
 "cells": [
  {
   "cell_type": "markdown",
   "metadata": {},
   "source": [
    "# Operadores Aritméticos\n",
    "### Ejercicio 1: Calcular la distancia entre planetas"
   ]
  },
  {
   "cell_type": "code",
   "execution_count": 15,
   "metadata": {},
   "outputs": [
    {
     "name": "stdout",
     "output_type": "stream",
     "text": [
      "La distancia entre la Tierra y Jupiter en kilometros es de: 628949330\n",
      "La distancia en millas es de: 390577534\n"
     ]
    }
   ],
   "source": [
    "# Importamos la libreria necesaria para redondear\n",
    "from math import floor\n",
    "\n",
    "# Crear las variables para almacenar las distancias\n",
    "Tierra = 149597870 #km\n",
    "Jupiter = 778547200 #km\n",
    "\n",
    "# Realizar la operación\n",
    "result_km = Tierra - Jupiter\n",
    "print(f\"La distancia entre la Tierra y Jupiter en kilometros es de: {abs(result_km)}\")\n",
    "\n",
    "# Imprimir el resultado en Millas\n",
    "result_mill = result_km * 0.621\n",
    "print(f\"La distancia en millas es de: {abs(floor(result_mill))}\")\n"
   ]
  },
  {
   "cell_type": "markdown",
   "metadata": {},
   "source": [
    "### Ejercicio 2: Convierte cadenas en números y usa valores absolutos"
   ]
  },
  {
   "cell_type": "code",
   "execution_count": 21,
   "metadata": {},
   "outputs": [
    {
     "name": "stdout",
     "output_type": "stream",
     "text": [
      "La distancia de Saturno y Urano en Kilometros es de: 1439000000\n",
      "La distancia en Millas es de: 893619000\n"
     ]
    }
   ],
   "source": [
    "# Importar la libreria para redondear\n",
    "from math import floor\n",
    "\n",
    "# Almacenar las distacias que ingrese el usuario\n",
    "name_p1 = input(\"Ingresa el nombre del planeta 1\")\n",
    "planet_1 = input(f\"Ingresa la distancia del Sol para {name_p1} en Kilometros\")\n",
    "name_p2 = input(\"Ingresa el nombre del planeta 2\")\n",
    "planet_2 = input(f\"Ingresa la distancia del Sol para {name_p2} en Kilometros\")\n",
    "\n",
    "\n",
    "# Convertir los valores en números\n",
    "planet_1 = int(planet_1)\n",
    "planet_2 = int(planet_2)\n",
    "\n",
    "# Realizar el cálculo y convertir a valor absouto\n",
    "distance = abs(planet_1 - planet_2) #KM\n",
    "\n",
    "# Convertir la distancia de KM a Millas e Imprimir el resultado\n",
    "print(f\"\"\"La distancia de {name_p1} y {name_p2} en Kilometros es de: {distance}\n",
    "La distancia en Millas es de: {floor(abs(distance*0.621))}\"\"\")"
   ]
  }
 ],
 "metadata": {
  "interpreter": {
   "hash": "920422d66dd22cd13e7b7da219c349bbc50723e560bbca5d5fbecdcd67a02591"
  },
  "kernelspec": {
   "display_name": "Python 3.10.2 64-bit (system)",
   "language": "python",
   "name": "python3"
  },
  "language_info": {
   "codemirror_mode": {
    "name": "ipython",
    "version": 3
   },
   "file_extension": ".py",
   "mimetype": "text/x-python",
   "name": "python",
   "nbconvert_exporter": "python",
   "pygments_lexer": "ipython3",
   "version": "3.10.2"
  },
  "orig_nbformat": 4
 },
 "nbformat": 4,
 "nbformat_minor": 2
}
