{
 "cells": [
  {
   "cell_type": "markdown",
   "metadata": {},
   "source": [
    "# Lógica Booleana\n",
    "## Declaraciones if, else y elif\n",
    "### Advertencia de Asteroide Acercandose a la Tierra"
   ]
  },
  {
   "cell_type": "code",
   "execution_count": 6,
   "metadata": {},
   "outputs": [
    {
     "name": "stdout",
     "output_type": "stream",
     "text": [
      "¡PELIGRO! Un asteroide se acerca a una velocidad mayor a los 25 km/s\n"
     ]
    }
   ],
   "source": [
    "asteroide = 49 #km/s\n",
    "\n",
    "if asteroide > 25:\n",
    "    print(\"¡PELIGRO! Un asteroide se acerca a una velocidad mayor a los 25 km/s\")\n",
    "else:\n",
    "    print(\"Se acerca un asteroide a baja velocidad, es seguro.\")"
   ]
  },
  {
   "cell_type": "markdown",
   "metadata": {},
   "source": [
    "### Alerta de Asteroide en la Atmófera de la Tierra"
   ]
  },
  {
   "cell_type": "code",
   "execution_count": 5,
   "metadata": {},
   "outputs": [
    {
     "name": "stdout",
     "output_type": "stream",
     "text": [
      "Un asteroide en la atmosfera pero tiene una velocidad baja, no hay nada que ver\n"
     ]
    }
   ],
   "source": [
    "asteroide = 19 #km/s\n",
    "\n",
    "if asteroide > 20:\n",
    "    print(\"Terricolas, busquen una luz en el cielo, se acerca un asteroide\")\n",
    "elif asteroide == 20:\n",
    "    print(\"Busquen un rayo de luz en el cielo\")\n",
    "else:\n",
    "    print(\"Un asteroide en la atmosfera pero tiene una velocidad baja, no hay nada que ver\")"
   ]
  },
  {
   "cell_type": "markdown",
   "metadata": {},
   "source": [
    "## Operadores and y or\n",
    "### Advertencia a la Tierra de Asteroide Según la Velocidad y el Tamaño"
   ]
  },
  {
   "cell_type": "code",
   "execution_count": null,
   "metadata": {},
   "outputs": [],
   "source": [
    "asteroide = 34 #km/s\n",
    "\n",
    "dimension_asteroide = 40 #m\n",
    "\n",
    "if asteroide > 25 and dimension_asteroide > 25:\n",
    "    print(\"¡PELIGRO! Un asteroide de gran dimension se acerca a la Tierra a gran velocidad\")\n",
    "elif asteroide > 20 "
   ]
  }
 ],
 "metadata": {
  "interpreter": {
   "hash": "920422d66dd22cd13e7b7da219c349bbc50723e560bbca5d5fbecdcd67a02591"
  },
  "kernelspec": {
   "display_name": "Python 3.10.2 64-bit (system)",
   "language": "python",
   "name": "python3"
  },
  "language_info": {
   "codemirror_mode": {
    "name": "ipython",
    "version": 3
   },
   "file_extension": ".py",
   "mimetype": "text/x-python",
   "name": "python",
   "nbconvert_exporter": "python",
   "pygments_lexer": "ipython3",
   "version": "3.10.2"
  },
  "orig_nbformat": 4
 },
 "nbformat": 4,
 "nbformat_minor": 2
}
