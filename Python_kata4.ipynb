{
 "cells": [
  {
   "cell_type": "markdown",
   "metadata": {},
   "source": [
    "# Cadenas\n",
    "### Ejercicio 1: Transformar Cadenas "
   ]
  },
  {
   "cell_type": "code",
   "execution_count": 1,
   "metadata": {},
   "outputs": [
    {
     "name": "stdout",
     "output_type": "stream",
     "text": [
      "On average, the Moon moves 4cm away from the Earth every year\n",
      "The highest daylight temperature of the Moon is 127 Celsius.\n"
     ]
    }
   ],
   "source": [
    "# Primero, dividir el texto en cada oración para trabajar con su contenido:\n",
    "text = \"\"\"Interesting facts about the Moon.\n",
    "The Moon is Earth's only satellite.\n",
    "There are several interesting facts about the Moon and how it affects life here on Earth.\n",
    "On average, the Moon moves 4cm away from the Earth every year.\n",
    "This yearly drift is not significant enough to cause immediate effects on Earth.\n",
    "The highest daylight temperature of the Moon is 127 C.\"\"\"\n",
    "div_text = text.split('.\\n')\n",
    "\n",
    "# Definir palabras clave para determinar si una oración contiene un hecho:\n",
    "palabras_clave = ('average', 'temperature', 'distance')\n",
    "\n",
    "# Ciclo for para imprimir los datos sobre la Luna que estén relacionados con las palabras clave:\n",
    "for sentence in div_text:\n",
    "    for key_word in palabras_clave:\n",
    "        if key_word in sentence:\n",
    "# Cambiar C a Celsius:\n",
    "            print(sentence.replace('C', 'Celsius'))\n",
    "        "
   ]
  },
  {
   "cell_type": "markdown",
   "metadata": {},
   "source": [
    "### Ejercicio 2: Formateando Cadenas"
   ]
  },
  {
   "cell_type": "code",
   "execution_count": 2,
   "metadata": {},
   "outputs": [
    {
     "name": "stdout",
     "output_type": "stream",
     "text": [
      "Gravity Fracts About Moon\n",
      "--------------------------------------------------------------------------------\n",
      "Nombre de la luna: Moon\n",
      "Gravedad en Moon: 0.16199999999999998 m/s\n",
      "Planeta: Earth\n",
      "\n",
      "Gravity Facs about Ganímedes\n",
      "--------------------------------------------------------------------------------\n",
      "Nombre de la luna: Ganímedes\n",
      "Gravedad en Ganímedes: 1.4300000000000002 m/s\n",
      "Planeta: Marte\n"
     ]
    }
   ],
   "source": [
    "# Datos a trabajar:\n",
    "name = \"Moon\"\n",
    "gravity = 0.00162 #kms\n",
    "planet = \"Earth\"\n",
    "\n",
    "# Crear título del formato:\n",
    "titulo = f\"Gravity Fracts about {name}\"\n",
    "\n",
    "# Plantilla de cadena multílinea para contener el resto de la información\n",
    "plantilla = f\"\"\"{titulo.title()}\n",
    "{'-'*80}\n",
    "Nombre de la luna: {name}\n",
    "Gravedad en {name}: {gravity*100} m/s\n",
    "Planeta: {planet}\"\"\"\n",
    "\n",
    "print(plantilla)\n",
    "\n",
    "# Nuevos datos y plantilla usando .format()\n",
    "planet = 'Marte'\n",
    "gravity = 0.00143\n",
    "name = 'Ganímedes'\n",
    "\n",
    "new_plantilla = \"\"\"\n",
    "Gravity Facs about {name}\n",
    "{guion}\n",
    "Nombre de la luna: {name}\n",
    "Gravedad en {name}: {gravity} m/s\n",
    "Planeta: {planet}\"\"\"\n",
    "\n",
    "print(new_plantilla.format(guion='-'*80, name=name, planet=planet, gravity=gravity*1000))\n"
   ]
  }
 ],
 "metadata": {
  "interpreter": {
   "hash": "920422d66dd22cd13e7b7da219c349bbc50723e560bbca5d5fbecdcd67a02591"
  },
  "kernelspec": {
   "display_name": "Python 3.10.2 64-bit (system)",
   "language": "python",
   "name": "python3"
  },
  "language_info": {
   "codemirror_mode": {
    "name": "ipython",
    "version": 3
   },
   "file_extension": ".py",
   "mimetype": "text/x-python",
   "name": "python",
   "nbconvert_exporter": "python",
   "pygments_lexer": "ipython3",
   "version": "3.10.2"
  },
  "orig_nbformat": 4
 },
 "nbformat": 4,
 "nbformat_minor": 2
}
